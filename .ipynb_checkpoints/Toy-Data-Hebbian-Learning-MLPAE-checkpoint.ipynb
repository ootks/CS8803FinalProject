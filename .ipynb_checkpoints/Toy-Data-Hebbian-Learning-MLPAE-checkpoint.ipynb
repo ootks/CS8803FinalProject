{
 "cells": [
  {
   "cell_type": "markdown",
   "metadata": {},
   "source": [
    "#### Imports"
   ]
  },
  {
   "cell_type": "code",
   "execution_count": 1,
   "metadata": {},
   "outputs": [],
   "source": [
    "import numpy as np\n",
    "import matplotlib.pyplot as plt\n",
    "from sklearn.datasets import make_moons, make_circles\n",
    "\n",
    "from tqdm import tqdm"
   ]
  },
  {
   "cell_type": "code",
   "execution_count": 2,
   "metadata": {},
   "outputs": [],
   "source": [
    "from mpl_toolkits.mplot3d import Axes3D\n",
    "\n",
    "%matplotlib inline\n",
    "%config InlineBackend.figure_format='retina'"
   ]
  },
  {
   "cell_type": "code",
   "execution_count": 3,
   "metadata": {},
   "outputs": [],
   "source": [
    "import torch\n",
    "from torch import nn\n",
    "from torch import optim\n",
    "import torch.nn.functional as F\n",
    "from torch.autograd import Variable\n",
    "from torch.utils.data import DataLoader, TensorDataset"
   ]
  },
  {
   "cell_type": "markdown",
   "metadata": {},
   "source": [
    "#### Create datasets"
   ]
  },
  {
   "cell_type": "code",
   "execution_count": 4,
   "metadata": {},
   "outputs": [],
   "source": [
    "nTot = 20\n",
    "circles_data, circles_labels = make_circles(n_samples = nTot)"
   ]
  },
  {
   "cell_type": "code",
   "execution_count": 5,
   "metadata": {},
   "outputs": [
    {
     "data": {
      "image/png": "[encoded data removed]",
      "text/plain": [
       "<Figure size 432x288 with 1 Axes>"
      ]
     },
     "metadata": {
      "image/png": {
       "height": 263,
       "width": 386
      },
      "needs_background": "light"
     },
     "output_type": "display_data"
    }
   ],
   "source": [
    "idx_0 = np.where(circles_labels==0)\n",
    "idx_1 = np.where(circles_labels==1)\n",
    "plt.scatter(circles_data[idx_0,0],circles_data[idx_0,1])\n",
    "plt.scatter(circles_data[idx_1,0],circles_data[idx_1,1])\n",
    "plt.axis('equal')\n",
    "plt.title('Original 2D data')\n",
    "plt.show()"
   ]
  },
  {
   "cell_type": "markdown",
   "metadata": {},
   "source": [
    "#### Split into train and test"
   ]
  },
  {
   "cell_type": "code",
   "execution_count": 6,
   "metadata": {},
   "outputs": [],
   "source": [
    "fracTrain = 0.8\n",
    "fracTest = 1 - fracTrain\n",
    "\n",
    "nTrain = int(nTot*fracTrain)\n",
    "nTest = nTot - nTrain"
   ]
  },
  {
   "cell_type": "code",
   "execution_count": 7,
   "metadata": {},
   "outputs": [],
   "source": [
    "repsTrain_solo = circles_data[:nTrain]\n",
    "repsTest_solo = circles_data[nTrain:]\n",
    "\n",
    "labelsTrain = circles_labels[:nTrain].astype(float)\n",
    "labelsTest = circles_labels[nTrain:].astype(float)"
   ]
  },
  {
   "cell_type": "code",
   "execution_count": 8,
   "metadata": {},
   "outputs": [],
   "source": [
    "dimProj = 100\n",
    "A = np.random.rand(2,dimProj)\n",
    "\n",
    "repsTrain_proj = repsTrain_solo@A\n",
    "repsTest_proj = repsTest_solo@A"
   ]
  },
  {
   "cell_type": "markdown",
   "metadata": {},
   "source": [
    "#### Convert data to tensors"
   ]
  },
  {
   "cell_type": "code",
   "execution_count": 9,
   "metadata": {},
   "outputs": [],
   "source": [
    "dataTrain = Variable(torch.from_numpy(repsTrain_proj)).requires_grad_(True)\n",
    "yTrain = Variable(torch.from_numpy(labelsTrain)).requires_grad_(True)\n",
    "\n",
    "dataTest = Variable(torch.from_numpy(repsTest_proj)).requires_grad_(True)\n",
    "yTest = Variable(torch.from_numpy(labelsTest)).requires_grad_(True)"
   ]
  },
  {
   "cell_type": "markdown",
   "metadata": {},
   "source": [
    "#### Train and test loaders"
   ]
  },
  {
   "cell_type": "code",
   "execution_count": 10,
   "metadata": {},
   "outputs": [],
   "source": [
    "## create dataset and dataloader\n",
    "tensorTrainData = TensorDataset(dataTrain,yTrain)\n",
    "tensorTestData = TensorDataset(dataTest,yTest)\n",
    "\n",
    "bs = 2 ## batch size\n",
    "train_loader = DataLoader(tensorTrainData, batch_size=bs, shuffle=True)\n",
    "train_loader_noShuffle = DataLoader(tensorTrainData, batch_size=bs, shuffle=False)\n",
    "test_loader = DataLoader(tensorTestData, batch_size=bs, shuffle=False)"
   ]
  },
  {
   "cell_type": "markdown",
   "metadata": {},
   "source": [
    "#### Test for CUDA"
   ]
  },
  {
   "cell_type": "code",
   "execution_count": 11,
   "metadata": {},
   "outputs": [
    {
     "name": "stdout",
     "output_type": "stream",
     "text": [
      "No GPU, training on CPU\n"
     ]
    }
   ],
   "source": [
    "train_on_gpu = torch.cuda.is_available()\n",
    "\n",
    "if not train_on_gpu:\n",
    "    print('No GPU, training on CPU')\n",
    "else:\n",
    "    print('GPU found, training on GPU')"
   ]
  },
  {
   "cell_type": "markdown",
   "metadata": {},
   "source": [
    "#### MLP AE"
   ]
  },
  {
   "cell_type": "code",
   "execution_count": 12,
   "metadata": {},
   "outputs": [],
   "source": [
    "n_latent = 50"
   ]
  },
  {
   "cell_type": "code",
   "execution_count": 13,
   "metadata": {},
   "outputs": [
    {
     "name": "stdout",
     "output_type": "stream",
     "text": [
      "MLPAE(\n",
      "  (layer1): Linear(in_features=100, out_features=50, bias=False)\n",
      "  (layer2): Linear(in_features=50, out_features=50, bias=False)\n",
      "  (layer3): Linear(in_features=50, out_features=50, bias=False)\n",
      "  (layer4): Linear(in_features=50, out_features=100, bias=False)\n",
      "  (dropout): Dropout(p=0.0, inplace=False)\n",
      ")\n"
     ]
    }
   ],
   "source": [
    "class MLPAE(nn.Module):\n",
    "    def __init__(self):\n",
    "        super(MLPAE, self).__init__()\n",
    "        \n",
    "        ##Encoder\n",
    "        self.layer1 = nn.Linear(100,50,bias=False)\n",
    "        self.layer2 = nn.Linear(50,50,bias=False) ## latent layer ##R1\n",
    "        self.layer3 = nn.Linear(50,50,bias=False) ##R2\n",
    "        self.layer4 = nn.Linear(50,100,bias=False) ## recon layer\n",
    "        \n",
    "        self.dropout = nn.Dropout(0.0)\n",
    "        \n",
    "        \n",
    "    def forward(self, x):\n",
    "        \n",
    "        def firing_rate(x):\n",
    "            nSamp, nNodes = x.shape\n",
    "            firing_rate_mat = torch.zeros(nSamp,nNodes)\n",
    "            keep_idxs = torch.argsort(x,dim=1)[:,:20]\n",
    "            for kk in range(nSamp):\n",
    "                firing_rate_mat[kk,keep_idxs[kk]] = 1\n",
    "            return firing_rate_mat\n",
    "        \n",
    "        ## layer 1\n",
    "        frIn = firing_rate(x)\n",
    "        \n",
    "        x = F.relu(self.layer1(x))\n",
    "        frL1 = firing_rate(x)\n",
    "        \n",
    "        x = F.relu(self.layer2(x))\n",
    "        frL2 = firing_rate(x)\n",
    "        \n",
    "        x_latent = self.dropout(x)\n",
    "        x = F.relu(self.layer3(x))\n",
    "        frL3 = firing_rate(x)\n",
    "       \n",
    "        x_recon = self.layer4(x)\n",
    "        frOut = firing_rate(x_recon)\n",
    "        \n",
    "        return x_recon, frIn, frL1, frL2, frL3, frOut, x_latent\n",
    "\n",
    "#create the NN\n",
    "model = MLPAE()\n",
    "print(model)\n",
    "\n",
    "#move tensors to GPU if available\n",
    "if train_on_gpu:\n",
    "    model.cuda()"
   ]
  },
  {
   "cell_type": "markdown",
   "metadata": {},
   "source": [
    "#### Count number of parameters"
   ]
  },
  {
   "cell_type": "code",
   "execution_count": 14,
   "metadata": {},
   "outputs": [
    {
     "data": {
      "text/plain": [
       "15000"
      ]
     },
     "execution_count": 14,
     "metadata": {},
     "output_type": "execute_result"
    }
   ],
   "source": [
    "def count_parameters(model):\n",
    "    return sum(p.numel() for p in model.parameters() if p.requires_grad)\n",
    "count_parameters(model)"
   ]
  },
  {
   "cell_type": "markdown",
   "metadata": {},
   "source": [
    "#### Trial pass for MLPAE"
   ]
  },
  {
   "cell_type": "code",
   "execution_count": 15,
   "metadata": {},
   "outputs": [],
   "source": [
    "for data, target in train_loader:\n",
    "    if train_on_gpu:\n",
    "        data, target = data.float().cuda(), target.float().cuda()\n",
    "        reconTP, frInTP, frL1TP, frL2TP, frL3TP, frOutTP, latentTP = model(data)"
   ]
  },
  {
   "cell_type": "code",
   "execution_count": 16,
   "metadata": {},
   "outputs": [
    {
     "ename": "NameError",
     "evalue": "name 'frInTP' is not defined",
     "output_type": "error",
     "traceback": [
      "\u001b[0;31m---------------------------------------------------------------------------\u001b[0m",
      "\u001b[0;31mNameError\u001b[0m                                 Traceback (most recent call last)",
      "\u001b[0;32m<ipython-input-16-1603237208ce>\u001b[0m in \u001b[0;36m<module>\u001b[0;34m\u001b[0m\n\u001b[0;32m----> 1\u001b[0;31m \u001b[0mbsize\u001b[0m\u001b[0;34m,\u001b[0m \u001b[0mdimIn\u001b[0m \u001b[0;34m=\u001b[0m \u001b[0mfrInTP\u001b[0m\u001b[0;34m.\u001b[0m\u001b[0mshape\u001b[0m\u001b[0;34m\u001b[0m\u001b[0;34m\u001b[0m\u001b[0m\n\u001b[0m\u001b[1;32m      2\u001b[0m \u001b[0m_\u001b[0m\u001b[0;34m,\u001b[0m \u001b[0mdim1\u001b[0m \u001b[0;34m=\u001b[0m \u001b[0mfrL1TP\u001b[0m\u001b[0;34m.\u001b[0m\u001b[0mshape\u001b[0m\u001b[0;34m\u001b[0m\u001b[0;34m\u001b[0m\u001b[0m\n\u001b[1;32m      3\u001b[0m \u001b[0m_\u001b[0m\u001b[0;34m,\u001b[0m \u001b[0mdim2\u001b[0m \u001b[0;34m=\u001b[0m \u001b[0mfrL2TP\u001b[0m\u001b[0;34m.\u001b[0m\u001b[0mshape\u001b[0m\u001b[0;34m\u001b[0m\u001b[0;34m\u001b[0m\u001b[0m\n\u001b[1;32m      4\u001b[0m \u001b[0m_\u001b[0m\u001b[0;34m,\u001b[0m \u001b[0mdim3\u001b[0m \u001b[0;34m=\u001b[0m \u001b[0mfrL3TP\u001b[0m\u001b[0;34m.\u001b[0m\u001b[0mshape\u001b[0m\u001b[0;34m\u001b[0m\u001b[0;34m\u001b[0m\u001b[0m\n\u001b[1;32m      5\u001b[0m \u001b[0m_\u001b[0m\u001b[0;34m,\u001b[0m \u001b[0mdimOut\u001b[0m \u001b[0;34m=\u001b[0m \u001b[0mfrOutTP\u001b[0m\u001b[0;34m.\u001b[0m\u001b[0mshape\u001b[0m\u001b[0;34m\u001b[0m\u001b[0;34m\u001b[0m\u001b[0m\n",
      "\u001b[0;31mNameError\u001b[0m: name 'frInTP' is not defined"
     ]
    }
   ],
   "source": [
    "bsize, dimIn = frInTP.shape\n",
    "_, dim1 = frL1TP.shape\n",
    "_, dim2 = frL2TP.shape\n",
    "_, dim3 = frL3TP.shape\n",
    "_, dimOut = frOutTP.shape"
   ]
  },
  {
   "cell_type": "code",
   "execution_count": 17,
   "metadata": {},
   "outputs": [],
   "source": [
    "# frOutTP.shape"
   ]
  },
  {
   "cell_type": "markdown",
   "metadata": {},
   "source": [
    "#### Define updater network"
   ]
  },
  {
   "cell_type": "code",
   "execution_count": 18,
   "metadata": {},
   "outputs": [
    {
     "name": "stdout",
     "output_type": "stream",
     "text": [
      "Updater(\n",
      "  (layer1): Linear(in_features=2, out_features=2, bias=True)\n",
      "  (layer2): Linear(in_features=2, out_features=1, bias=True)\n",
      "  (dropout): Dropout(p=0.0, inplace=False)\n",
      ")\n"
     ]
    }
   ],
   "source": [
    "class Updater(nn.Module):\n",
    "    def __init__(self):\n",
    "        super(Updater, self).__init__()\n",
    "        \n",
    "        ##Encoder\n",
    "        self.layer1 = nn.Linear(2,2)\n",
    "        self.layer2 = nn.Linear(2,1)\n",
    "        \n",
    "        self.dropout = nn.Dropout(0.0)\n",
    "        \n",
    "    def forward(self, x):\n",
    "        \n",
    "        ## layer 1\n",
    "        x = F.relu(self.layer1(x))\n",
    "        x = self.dropout(x)\n",
    "        x = torch.tanh(self.layer2(x))\n",
    "        \n",
    "        return x\n",
    "\n",
    "#create the NN\n",
    "updater = Updater()\n",
    "print(updater)\n",
    "\n",
    "#move tensors to GPU if available\n",
    "if train_on_gpu:\n",
    "    updater.cuda()"
   ]
  },
  {
   "cell_type": "code",
   "execution_count": 19,
   "metadata": {},
   "outputs": [
    {
     "data": {
      "text/plain": [
       "9"
      ]
     },
     "execution_count": 19,
     "metadata": {},
     "output_type": "execute_result"
    }
   ],
   "source": [
    "count_parameters(updater)"
   ]
  },
  {
   "cell_type": "markdown",
   "metadata": {},
   "source": [
    "#### Trial pass for updater "
   ]
  },
  {
   "cell_type": "code",
   "execution_count": 20,
   "metadata": {},
   "outputs": [],
   "source": [
    "# i1 = 0\n",
    "# j1 = 0\n",
    "\n",
    "# xx = torch.cat((frInT[:,i1].view(-1,1),frL1T[:,j1].view(-1,1)),1)\n",
    "# if train_on_gpu:\n",
    "#     xx = xx.cuda()\n",
    "# print(xx.shape)"
   ]
  },
  {
   "cell_type": "code",
   "execution_count": 21,
   "metadata": {},
   "outputs": [],
   "source": [
    "# oo = updater(xx)\n",
    "# torch.mean(oo,0)[0]"
   ]
  },
  {
   "cell_type": "code",
   "execution_count": 22,
   "metadata": {},
   "outputs": [],
   "source": [
    "def deltaW(di,dj,fri,frj,upM,GPU):\n",
    "    dw = torch.zeros(dj,di)\n",
    "    for ii in range(di):\n",
    "        for jj in range(dj):\n",
    "            frBatch = torch.cat((fri[:,ii].view(-1,1),frj[:,jj].view(-1,1)),1)\n",
    "            if GPU:\n",
    "                frBatch, dw = frBatch.cuda(), dw.cuda()\n",
    "            dw[jj,ii] = torch.mean(upM(frBatch),0)[0]\n",
    "    return nn.Parameter(dw)"
   ]
  },
  {
   "cell_type": "code",
   "execution_count": 23,
   "metadata": {},
   "outputs": [],
   "source": [
    "# dwsL1 = deltaW(dimIn,dim1,frInTP,frL1TP,updater,train_on_gpu)\n",
    "# dwsL4 = deltaW(dim3,dimOut,frL3TP,frOutTP,updater,train_on_gpu)"
   ]
  },
  {
   "cell_type": "code",
   "execution_count": 24,
   "metadata": {},
   "outputs": [],
   "source": [
    "# dwsL4.shape"
   ]
  },
  {
   "cell_type": "code",
   "execution_count": 25,
   "metadata": {},
   "outputs": [],
   "source": [
    "# oldClone = model.layer1.weight.clone()\n",
    "# oldClone += (dwsL12)\n",
    "# model.layer1.weight = nn.Parameter(oldClone)"
   ]
  },
  {
   "cell_type": "code",
   "execution_count": 26,
   "metadata": {},
   "outputs": [],
   "source": [
    "def updateSynapses(bigModel,updaterModel,dims,firingRates,GPU):\n",
    "        \n",
    "#     recon, frIn, frL1, frL2, frL3, frOut, latents = bigModel(batchData)\n",
    "    \n",
    "#     bsize, dimIn = frIn.shape\n",
    "#     _, dim1 = frL1.shape\n",
    "#     _, dim2 = frL2.shape\n",
    "#     _, dim3 = frL3.shape\n",
    "#     _, dimOut = frOut.shape\n",
    "\n",
    "    frIn, frL1, frL2, frL3, frOut = firingRates\n",
    "\n",
    "    dimIn, dim1, dim2, dim3, dimOut = dims\n",
    "        \n",
    "    ## layer1\n",
    "    clone1 = bigModel.layer1.weight.clone()\n",
    "    clone1 += deltaW(dimIn,dim1,frIn,frL1,upM=updaterModel,GPU=GPU)\n",
    "    bigModel.layer1.weight = nn.Parameter(clone1)\n",
    "        \n",
    "    ## layer2\n",
    "    clone2 = bigModel.layer2.weight.clone()\n",
    "    clone2 += deltaW(dim1,dim2,frL1,frL2,upM=updaterModel,GPU=GPU)\n",
    "    bigModel.layer2.weight = nn.Parameter(clone2)\n",
    "    \n",
    "    ## layer3\n",
    "    clone3 = bigModel.layer3.weight.clone()\n",
    "    clone3 += deltaW(dim2,dim3,frL2,frL3,upM=updaterModel,GPU=GPU)\n",
    "    bigModel.layer3.weight = nn.Parameter(clone3)\n",
    "    \n",
    "    ## layer4\n",
    "    clone4 = bigModel.layer4.weight.clone()\n",
    "    clone4 += deltaW(dim3,dimOut,frL3,frOut,upM=updaterModel,GPU=GPU)\n",
    "    bigModel.layer4.weight = nn.Parameter(clone4)\n",
    "    \n",
    "    bigModel = bigModel.eval()\n",
    "    \n",
    "    return bigModel"
   ]
  },
  {
   "cell_type": "markdown",
   "metadata": {},
   "source": [
    "#### Loss function and optimizer"
   ]
  },
  {
   "cell_type": "code",
   "execution_count": 27,
   "metadata": {},
   "outputs": [],
   "source": [
    "#specify loss function\n",
    "criterion = nn.MSELoss()\n",
    "\n",
    "#optimizer\n",
    "eta = 0.001\n",
    "optimizer = torch.optim.Adam(updater.parameters(), lr=eta)"
   ]
  },
  {
   "cell_type": "markdown",
   "metadata": {},
   "source": [
    "#### Addresses to collect activations and models"
   ]
  },
  {
   "cell_type": "code",
   "execution_count": 28,
   "metadata": {},
   "outputs": [],
   "source": [
    "pp = 'C:/Users/abalwani6/Desktop/Spring 2021/Classes/CS 8803 CAB/Final-Project/'\n",
    "npp = 'saved-models-hebbian-MLPAE/'\n",
    "pp_npy = pp+npp+'npys/'\n",
    "pp_pts = pp+npp+'pts/'"
   ]
  },
  {
   "cell_type": "markdown",
   "metadata": {},
   "source": [
    "#### Train updater model"
   ]
  },
  {
   "cell_type": "code",
   "execution_count": 29,
   "metadata": {},
   "outputs": [],
   "source": [
    "dimsList = [dimProj,n_latent,n_latent,n_latent,dimProj]"
   ]
  },
  {
   "cell_type": "code",
   "execution_count": 30,
   "metadata": {},
   "outputs": [
    {
     "name": "stderr",
     "output_type": "stream",
     "text": [
      " 25%|██▌       | 1/4 [00:45<02:17, 45.78s/it]"
     ]
    },
    {
     "name": "stdout",
     "output_type": "stream",
     "text": [
      "Epoch: 1, Train Loss Decreased!! (inf-->0.277696)\n",
      "Test Loss: 0.235676\n",
      "\n"
     ]
    },
    {
     "name": "stderr",
     "output_type": "stream",
     "text": [
      "\r",
      " 50%|█████     | 2/4 [01:31<01:31, 45.84s/it]"
     ]
    },
    {
     "name": "stdout",
     "output_type": "stream",
     "text": [
      "Epoch: 2, Train Loss Decreased!! (0.277696-->0.277295)\n",
      "Test Loss: 0.235676\n",
      "\n"
     ]
    },
    {
     "name": "stderr",
     "output_type": "stream",
     "text": [
      "\r",
      " 75%|███████▌  | 3/4 [02:19<00:46, 46.44s/it]"
     ]
    },
    {
     "name": "stdout",
     "output_type": "stream",
     "text": [
      "Test Loss: 0.235676\n",
      "\n"
     ]
    },
    {
     "name": "stderr",
     "output_type": "stream",
     "text": [
      "100%|██████████| 4/4 [03:05<00:00, 46.25s/it]"
     ]
    },
    {
     "name": "stdout",
     "output_type": "stream",
     "text": [
      "Epoch: 4, Train Loss Decreased!! (0.277295-->0.277295)\n",
      "Test Loss: 0.235676\n",
      "\n"
     ]
    },
    {
     "name": "stderr",
     "output_type": "stream",
     "text": [
      "\n"
     ]
    }
   ],
   "source": [
    "#number of epochs\n",
    "n_epochs = 4\n",
    "div = n_epochs//4 ## try ensuring that number used to divide by is a factor of n_epochs\n",
    "train_losses = np.zeros(n_epochs)\n",
    "\n",
    "train_loss_min = np.Inf\n",
    "best_epoch = 0\n",
    "\n",
    "for epoch in tqdm(range(1,n_epochs+1)):\n",
    "    train_loss = 0.0\n",
    "    cnt = 0\n",
    "    \n",
    "    #train updater model\n",
    "    updater.train()\n",
    "    model.eval()\n",
    "    for data, target in train_loader:\n",
    "        if train_on_gpu:\n",
    "            data, target = data.float().cuda(), target.float().cuda()\n",
    "        \n",
    "        optimizer.zero_grad() #clears older gradients\n",
    "        recon_train, frIn_train, frL1_train, frL2_train, frL3_train, frOut_train, latents_train = model(data) #forward pass\n",
    "        loss = criterion(recon_train,data) #calculate the loss for the batch on meta-objective\n",
    "        loss.backward() #backprop\n",
    "        optimizer.step() #update parameters in direction of the -ve gradient\n",
    "        train_loss += loss.item()*data.size(0) #update training loss\n",
    "        \n",
    "        firingRates_tup = (frIn_train, frL1_train, frL2_train, frL3_train, frOut_train)\n",
    "        \n",
    "        model = updateSynapses(model,updater,dimsList,firingRates_tup,train_on_gpu) ##update synapses of the main model\n",
    "        \n",
    "    #calculate average loss\n",
    "    train_loss = train_loss/len(train_loader.dataset)\n",
    "    \n",
    "    #training/validation stats\n",
    "#     print('Epoch: {} \\tTraining Loss: {:.6f}'.format(epoch, train_loss))\n",
    "    train_losses[epoch-1] = train_loss\n",
    "    \n",
    "    #save model if the training loss decreased\n",
    "    if train_loss <= train_loss_min:\n",
    "        print('Epoch: {}, Train Loss Decreased!! ({:.6f}-->{:.6f})'.format(epoch,train_loss_min,train_loss))\n",
    "        torch.save(model.state_dict(),pp_pts+'hebbian-MLPAE.pt')\n",
    "        torch.save(updater.state_dict(),pp_pts+'NN-updater.pt')\n",
    "        train_loss_min = train_loss\n",
    "        best_epoch = epoch\n",
    "        \n",
    "    if epoch%div == 0:\n",
    "        torch.save(model.state_dict(), pp_pts+'hebbian-MLPAE_epoch_'+str(epoch)+'.pt')\n",
    "        torch.save(updater.state_dict(), pp_pts+'NN-updater_epoch_'+str(epoch)+'.pt')\n",
    "        \n",
    "        activations_hidden_np = np.zeros((nTest,n_latent))\n",
    "        \n",
    "        activations_out_np = np.zeros((nTest,dimProj))\n",
    "        \n",
    "        # track test loss\n",
    "        test_loss = 0.0\n",
    "        \n",
    "        model.eval()\n",
    "        updater.eval()\n",
    "        for data_test, target_test in test_loader:\n",
    "            if train_on_gpu:\n",
    "                data_test, target_test = data_test.float().cuda(), target_test.float().cuda()\n",
    "            \n",
    "            ## outputs\n",
    "            output_test, frIn_test, frL1_test, frL2_test, frL3_test, frOut_test, latents_test = model(data_test)\n",
    "            \n",
    "            # calculate the batch loss\n",
    "            loss = criterion(output_test,data_test)\n",
    "            \n",
    "            # update test loss \n",
    "            test_loss += loss.item()*data_test.size(0)\n",
    "            \n",
    "            latents_test = np.squeeze(latents_test.detach().cpu().numpy())\n",
    "            output_test = np.squeeze(output_test.detach().cpu().numpy())\n",
    "            \n",
    "            for i in range(bs):\n",
    "                if i < len(data_test):\n",
    "                    label = target_test.data[i]\n",
    "\n",
    "                    activations_hidden_np[cnt] = latents_test[i]\n",
    "\n",
    "                    activations_out_np[cnt] = output_test[i,-1]\n",
    "\n",
    "                    cnt += 1\n",
    "\n",
    "        np.save(pp_npy+'hebbian-MLPAE_latent_epoch_'+str(epoch), activations_hidden_np)\n",
    "        \n",
    "        np.save(pp_npy+'hebbian-MLPAE_out_epoch_'+str(epoch), activations_out_np)\n",
    "        \n",
    "        # average test loss\n",
    "        test_loss = test_loss/len(test_loader.dataset)\n",
    "        print('Test Loss: {:.6f}\\n'.format(test_loss))"
   ]
  },
  {
   "cell_type": "code",
   "execution_count": 31,
   "metadata": {},
   "outputs": [
    {
     "data": {
      "text/plain": [
       "Text(0, 0.5, 'MSE')"
      ]
     },
     "execution_count": 31,
     "metadata": {},
     "output_type": "execute_result"
    },
    {
     "data": {
      "image/png": "[encoded data removed]",
      "text/plain": [
       "<Figure size 432x288 with 1 Axes>"
      ]
     },
     "metadata": {
      "image/png": {
       "height": 277,
       "width": 411
      },
      "needs_background": "light"
     },
     "output_type": "display_data"
    }
   ],
   "source": [
    "plt.plot((train_losses),'-x')\n",
    "plt.xticks(np.arange(n_epochs),np.arange(n_epochs)+1)\n",
    "plt.title('Training Loss')\n",
    "plt.xlabel('Epochs')\n",
    "plt.ylabel('MSE')"
   ]
  },
  {
   "cell_type": "markdown",
   "metadata": {},
   "source": [
    "#### Load best models"
   ]
  },
  {
   "cell_type": "code",
   "execution_count": null,
   "metadata": {},
   "outputs": [],
   "source": []
  },
  {
   "cell_type": "code",
   "execution_count": null,
   "metadata": {},
   "outputs": [],
   "source": []
  }
 ],
 "metadata": {
  "kernelspec": {
   "display_name": "Python 3",
   "language": "python",
   "name": "python3"
  },
  "language_info": {
   "codemirror_mode": {
    "name": "ipython",
    "version": 3
   },
   "file_extension": ".py",
   "mimetype": "text/x-python",
   "name": "python",
   "nbconvert_exporter": "python",
   "pygments_lexer": "ipython3",
   "version": "3.9.2"
  }
 },
 "nbformat": 4,
 "nbformat_minor": 4
}
